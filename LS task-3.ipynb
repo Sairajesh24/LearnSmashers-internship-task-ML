{
 "cells": [
  {
   "cell_type": "markdown",
   "id": "3cb4096b",
   "metadata": {},
   "source": [
    "# Task 3. Clustering Techniques :"
   ]
  },
  {
   "cell_type": "markdown",
   "id": "34682679",
   "metadata": {},
   "source": [
    "# Apply K-means Clustering or Hierarchical Clustering to find the group of people who are the profitable customers for the mall owner."
   ]
  },
  {
   "cell_type": "code",
   "execution_count": null,
   "id": "209530fb",
   "metadata": {},
   "outputs": [],
   "source": [
    "import pandas as pd\n",
    "from sklearn.cluster import KMeans\n",
    "from sklearn.preprocessing import StandardScaler\n",
    "import os\n",
    "\n",
    "# Set environment variable to suppress memory leak warning\n",
    "os.environ['OMP_NUM_THREADS'] = '1'\n",
    "\n",
    "\n",
    "# Create the customer dataset\n",
    "data = pd.read_csv(\"Mall_Customers.csv\")\n",
    "\n",
    "# Select the numerical features for clustering\n",
    "features = ['Age', 'Annual Income (k$)', 'Spending Score (1-100)']\n",
    "data_numeric = data[features]\n",
    "\n",
    "# Normalize the dataset\n",
    "scaler = StandardScaler()\n",
    "normalized_data = scaler.fit_transform(data_numeric)\n",
    "\n",
    "# Choose the number of clusters (K)\n",
    "k = 2\n",
    "\n",
    "# Apply K-means clustering\n",
    "kmeans = KMeans(n_clusters=k, n_init=10, random_state=42)\n",
    "kmeans.fit(normalized_data)\n",
    "\n",
    "# Get the cluster labels for each data point\n",
    "cluster_labels = kmeans.labels_\n",
    "\n",
    "# Add the cluster labels and profitability to the original dataset\n",
    "data['Cluster'] = cluster_labels\n",
    "data['Profitable'] = cluster_labels  # For demonstration purposes, considering the cluster label as profitability\n",
    "\n",
    "# Filter profitable customers\n",
    "profitable_customers = data[data['Profitable'] == 1]\n",
    "print(profitable_customers)\n"
   ]
  },
  {
   "cell_type": "code",
   "execution_count": null,
   "id": "ef00b1eb",
   "metadata": {},
   "outputs": [],
   "source": []
  }
 ],
 "metadata": {
  "kernelspec": {
   "display_name": "Python 3 (ipykernel)",
   "language": "python",
   "name": "python3"
  },
  "language_info": {
   "codemirror_mode": {
    "name": "ipython",
    "version": 3
   },
   "file_extension": ".py",
   "mimetype": "text/x-python",
   "name": "python",
   "nbconvert_exporter": "python",
   "pygments_lexer": "ipython3",
   "version": "3.10.9"
  }
 },
 "nbformat": 4,
 "nbformat_minor": 5
}
