{
 "cells": [
  {
   "cell_type": "markdown",
   "id": "21b10335",
   "metadata": {},
   "source": [
    "# Task 1. Data preparation & confusion matrix :"
   ]
  },
  {
   "cell_type": "markdown",
   "id": "7f5c02ec",
   "metadata": {},
   "source": [
    "# A] Perform following operation on given dataset. a) Find Shape of Data b) Find Missing Values c) Find data type of each column d)Randomly divide dataset in training (75%)and testing (25%)."
   ]
  },
  {
   "cell_type": "code",
   "execution_count": null,
   "id": "53959bac",
   "metadata": {},
   "outputs": [],
   "source": [
    "from sklearn.datasets import load_breast_cancer\n",
    "from sklearn.model_selection import train_test_split\n",
    "\n",
    "# Load the Breast Cancer dataset\n",
    "breast_cancer = load_breast_cancer()\n",
    "\n",
    "# Extract the features (X) and target (y)\n",
    "X = breast_cancer.data\n",
    "y = breast_cancer.target\n",
    "\n",
    "# a) Find Shape of Data\n",
    "print(\"Shape of Data:\", X.shape)\n",
    "print(\"----------------------------------------------------------\")\n",
    "\n",
    "# b) Find Missing Values\n",
    "missing_values = sum(sum(X == 0))  # Counting zero values as missing\n",
    "print(\"Missing Values:\", missing_values)\n",
    "print(\"----------------------------------------------------------\")\n",
    "\n",
    "# c) Find data type of each column\n",
    "print(\"Data Type of Each Column:\")\n",
    "for i in range(X.shape[1]):\n",
    "    column_name = breast_cancer.feature_names[i]\n",
    "    data_type = type(X[0, i]).__name__\n",
    "    print(f\"{column_name}: {data_type}\")\n",
    "print(\"----------------------------------------------------------\")\n",
    "\n",
    "# d) Randomly divide dataset into training (75%) and testing (25%)\n",
    "X_train, X_test, y_train, y_test = train_test_split(X, y, test_size=0.25, random_state=42)\n",
    "\n",
    "print(\"Training Set Shape:\", X_train.shape)\n",
    "print(\"Testing Set Shape:\", X_test.shape)\n"
   ]
  },
  {
   "cell_type": "markdown",
   "id": "536b11c8",
   "metadata": {},
   "source": [
    "# B] Through the diagnosis test I predicted 100 report as COVID positive, but only 45 of those were actually positive.Total 50 people in my sample were actually COVIpositive. I have total 500 samples. Create confusion matrixbased on above data and find I. Accuracy II. Precision III.Recall IV. F-1 score."
   ]
  },
  {
   "cell_type": "code",
   "execution_count": null,
   "id": "ee6e6338",
   "metadata": {},
   "outputs": [],
   "source": [
    "import numpy as np\n",
    "\n",
    "# Create a confusion matrix\n",
    "TP = 45\n",
    "FP = 100 - TP\n",
    "FN = 50 - TP\n",
    "TN = 500 - (TP + FP + FN)\n",
    "\n",
    "confusion_matrix = np.array([[TN, FP], [FN, TP]])\n",
    "print(\"Confusion Matrix:\")\n",
    "print(confusion_matrix)\n",
    "\n",
    "# Calculate evaluation metrics\n",
    "accuracy = (TP + TN) / (TP + FP + TN + FN)\n",
    "precision = TP / (TP + FP)\n",
    "recall = TP / (TP + FN)\n",
    "f1_score = 2 * (precision * recall) / (precision + recall)\n",
    "\n",
    "print(\"Accuracy:\", accuracy)\n",
    "print(\"Precision:\", precision)\n",
    "print(\"Recall:\", recall)\n",
    "print(\"F1 Score:\", f1_score)\n"
   ]
  },
  {
   "cell_type": "code",
   "execution_count": null,
   "id": "454b204e",
   "metadata": {},
   "outputs": [],
   "source": []
  }
 ],
 "metadata": {
  "kernelspec": {
   "display_name": "Python 3 (ipykernel)",
   "language": "python",
   "name": "python3"
  },
  "language_info": {
   "codemirror_mode": {
    "name": "ipython",
    "version": 3
   },
   "file_extension": ".py",
   "mimetype": "text/x-python",
   "name": "python",
   "nbconvert_exporter": "python",
   "pygments_lexer": "ipython3",
   "version": "3.10.9"
  }
 },
 "nbformat": 4,
 "nbformat_minor": 5
}
