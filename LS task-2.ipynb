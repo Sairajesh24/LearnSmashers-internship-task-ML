{
 "cells": [
  {
   "cell_type": "markdown",
   "id": "50ae18db",
   "metadata": {},
   "source": [
    "# Task 2. Linear Regression Model :"
   ]
  },
  {
   "cell_type": "markdown",
   "id": "97e136c0",
   "metadata": {},
   "source": [
    "# Apply Linear Regression using suitable library function and predict the Month-wise temperature."
   ]
  },
  {
   "cell_type": "code",
   "execution_count": null,
   "id": "2decd11c",
   "metadata": {},
   "outputs": [],
   "source": [
    "import pandas as pd\n",
    "from sklearn.linear_model import LinearRegression\n",
    "\n",
    "df = pd.read_csv(\"temperatures.csv\")\n",
    "df"
   ]
  },
  {
   "cell_type": "code",
   "execution_count": null,
   "id": "55ecc2de",
   "metadata": {},
   "outputs": [],
   "source": [
    "# Extract the features (months) and target (temperature)\n",
    "X = df.loc[:, 'JAN':'DEC'].values.reshape(-1, 12)\n",
    "y = df['ANNUAL']\n",
    "\n",
    "# Create and fit the Linear Regression model\n",
    "model = LinearRegression()\n",
    "model.fit(X, y)"
   ]
  },
  {
   "cell_type": "code",
   "execution_count": null,
   "id": "b7573541",
   "metadata": {},
   "outputs": [],
   "source": [
    "# Take user input for the year and month name\n",
    "year = int(input(\"Enter the year: \"))\n",
    "month_name = input(\"Enter the month name: \")"
   ]
  },
  {
   "cell_type": "code",
   "execution_count": null,
   "id": "de309b96",
   "metadata": {},
   "outputs": [],
   "source": [
    "# Map month names to column indices\n",
    "month_map = {\n",
    "    'JAN': 0, 'FEB': 1, 'MAR': 2, 'APR': 3, 'MAY': 4, 'JUN': 5,\n",
    "    'JUL': 6, 'AUG': 7, 'SEP': 8, 'OCT': 9, 'NOV': 10, 'DEC': 11\n",
    "}\n",
    "\n",
    "# Check if the month name is valid\n",
    "if month_name not in month_map:\n",
    "    print(\"Invalid month name. Please try again.\")\n",
    "    exit()"
   ]
  },
  {
   "cell_type": "code",
   "execution_count": null,
   "id": "b9d8caf8",
   "metadata": {},
   "outputs": [],
   "source": [
    "# Get the column index for the specified month\n",
    "month_index = month_map[month_name]\n",
    "\n",
    "# Find the corresponding row index based on the year\n",
    "row_index = df[df['YEAR'] == year].index\n",
    "\n",
    "# Check if the year is valid\n",
    "if len(row_index) == 0:\n",
    "    print(\"Invalid year. Please try again.\")\n",
    "    exit()"
   ]
  },
  {
   "cell_type": "code",
   "execution_count": null,
   "id": "22ebf998",
   "metadata": {},
   "outputs": [],
   "source": [
    "# Predict the temperature for the specified year and month\n",
    "predicted_temperature = model.predict([[df.loc[row_index[0], 'JAN'], df.loc[row_index[0], 'FEB'], df.loc[row_index[0], 'MAR'], df.loc[row_index[0], 'APR'],\n",
    "                                        df.loc[row_index[0], 'MAY'], df.loc[row_index[0], 'JUN'], df.loc[row_index[0], 'JUL'], df.loc[row_index[0], 'AUG'],\n",
    "                                        df.loc[row_index[0], 'SEP'], df.loc[row_index[0], 'OCT'], df.loc[row_index[0], 'NOV'], df.loc[row_index[0], 'DEC']]])\n",
    "\n",
    "print(f\"Predicted temperature for {month_name}-{year}: {predicted_temperature[0]}\")\n"
   ]
  },
  {
   "cell_type": "code",
   "execution_count": null,
   "id": "92c8d7d2",
   "metadata": {},
   "outputs": [],
   "source": []
  }
 ],
 "metadata": {
  "kernelspec": {
   "display_name": "Python 3 (ipykernel)",
   "language": "python",
   "name": "python3"
  },
  "language_info": {
   "codemirror_mode": {
    "name": "ipython",
    "version": 3
   },
   "file_extension": ".py",
   "mimetype": "text/x-python",
   "name": "python",
   "nbconvert_exporter": "python",
   "pygments_lexer": "ipython3",
   "version": "3.10.9"
  }
 },
 "nbformat": 4,
 "nbformat_minor": 5
}
