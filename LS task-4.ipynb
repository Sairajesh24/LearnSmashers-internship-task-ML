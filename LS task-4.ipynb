{
 "cells": [
  {
   "cell_type": "markdown",
   "id": "33d5c4f3",
   "metadata": {},
   "source": [
    "# Task 4. Association Rule Mining :"
   ]
  },
  {
   "cell_type": "markdown",
   "id": "c2e54380",
   "metadata": {},
   "source": [
    "# There is no header in the dataset and the first row contains the first transaction, so mentioned header = None here while loading dataset. Follow following steps : (a) Data Preprocessing (b) Generate the list of transactions from the dataset (c) Train Apriori algorithm on the dataset (d) Visualize the list of rules"
   ]
  },
  {
   "cell_type": "code",
   "execution_count": null,
   "id": "e2d05cc8",
   "metadata": {},
   "outputs": [],
   "source": [
    "import sys\n",
    "sys.path.append(\"c:\\\\software\\\\python3.10.9\\\\lib\\\\site-packages\")\n"
   ]
  },
  {
   "cell_type": "code",
   "execution_count": null,
   "id": "65ae8a62",
   "metadata": {},
   "outputs": [],
   "source": [
    "import pandas as pd\n",
    "\n",
    "# Load the dataset\n",
    "data = pd.read_csv(\"Market_Basket.csv\", header=None)\n",
    "\n",
    "# Remove duplicates\n",
    "data = data.drop_duplicates()\n",
    "\n",
    "# Handle missing values (if any)\n",
    "data = data.dropna()\n",
    "\n",
    "# Convert the dataset into a list of transactions\n",
    "transactions = []\n",
    "for i in range(len(data)):\n",
    "    transactions.append([str(data.values[i, j]) for j in range(len(data.columns))])\n"
   ]
  },
  {
   "cell_type": "code",
   "execution_count": null,
   "id": "f38995fd",
   "metadata": {},
   "outputs": [],
   "source": [
    "from mlxtend.preprocessing import TransactionEncoder\n",
    "from mlxtend.frequent_patterns import apriori, association_rules\n",
    "\n",
    "# Perform one-hot encoding of the transactions\n",
    "te = TransactionEncoder()\n",
    "te_ary = te.fit_transform(transactions)\n",
    "df = pd.DataFrame(te_ary, columns=te.columns_)"
   ]
  },
  {
   "cell_type": "code",
   "execution_count": null,
   "id": "87338fae",
   "metadata": {},
   "outputs": [],
   "source": [
    "# Apply the Apriori algorithm to find frequent itemsets\n",
    "frequent_itemsets = apriori(df, min_support=0.1, use_colnames=True)"
   ]
  },
  {
   "cell_type": "code",
   "execution_count": null,
   "id": "68073eb7",
   "metadata": {},
   "outputs": [],
   "source": [
    "# Generate association rules\n",
    "rules = association_rules(frequent_itemsets, metric=\"lift\", min_threshold=1)"
   ]
  },
  {
   "cell_type": "code",
   "execution_count": null,
   "id": "60fc2f86",
   "metadata": {},
   "outputs": [],
   "source": [
    "# Sort the rules by confidence in descending order\n",
    "rules = rules.sort_values(by=\"confidence\", ascending=False)\n",
    "\n",
    "# Display the top 10 rules\n",
    "print(rules.head(10))"
   ]
  }
 ],
 "metadata": {
  "kernelspec": {
   "display_name": "Python 3 (ipykernel)",
   "language": "python",
   "name": "python3"
  },
  "language_info": {
   "codemirror_mode": {
    "name": "ipython",
    "version": 3
   },
   "file_extension": ".py",
   "mimetype": "text/x-python",
   "name": "python",
   "nbconvert_exporter": "python",
   "pygments_lexer": "ipython3",
   "version": "3.10.9"
  }
 },
 "nbformat": 4,
 "nbformat_minor": 5
}
